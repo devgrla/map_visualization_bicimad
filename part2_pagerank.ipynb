{
 "cells": [
  {
   "cell_type": "markdown",
   "metadata": {},
   "source": [
    "## Summary\n",
    "\n",
    "Accompanying the global trend in the use of bicycles as a sustainable transport, Madrid is not an exception. Its sharing public system (Bicimad) has been growing considerably year by year in terms of users and uses. One of the main goals of the system is to attract those people who travel in private vehicles for internal displacements in the city and thereby reduce negative consequences of car travel such as pollution, noise, etc. To achieve these goals, one of the most important aspects to be considered is the correct location of bike stations in order to satisfy the demand that could exist.\n",
    "\n",
    "While there are many factors to consider to establish an optimal system (exceeding this example), a **good starting point** is to understand how the bicycle network works today and which are either more or less influential stations of the network.\n",
    "\n",
    "It is difficult to understand with the provided data how important each station is and how it affects the rest of the network. In order to get results, we thought it would be useful to represent data in graphs as is already used in multiple scenarios. \n",
    "\n",
    "Represent and organize data as graphs is really useful when you are trying to define relationships between different nodes and edges. The nodes or vertices are the entities which must be represented, while the edges or arcs define the relationships between those nodes. This type of data works very well for the analysis of social networks and implementation of algorithms such as PageRank to better understand and analyze the relationships between entities.\n",
    "\n",
    "More use cases of data organized in graphs could be social networks, the articles' quality and importance in bibliographic sites and the classification of web sites.\n",
    "\n",
    "**In this example, the implementation of the PageRank algorithm will be applied to Bicimad system**, using public data provided by the company to determine the influence of the nodes in the network. In this case, the nodes will be represented by the stations and each movement or trip will be represented by an arc connecting both stations. The weight of the arc is defined as the number of trips between stations, which will create a directed graph.\n"
   ]
  },
  {
   "cell_type": "markdown",
   "metadata": {},
   "source": [
    "### Setting up\n",
    "\n",
    "Data used for this example was obtained from public information sources, using the open data services provided by the EMT (Link) system and data for the period between April 2017 and January 2019.\n",
    "\n",
    "We mainly used 2 data sources:\n",
    "\n",
    "**Stations ([Link](https://rbdata.emtmadrid.es:8443/BiciMad/get_stations/WEB.SERV.gaston@gutrade.io/1326B978-2486-479C-B76E-15C4838F9345/))**\n",
    "From each of the stations (172), the id, the name and other characteristics are stored in the *stations.csv* file that will be used later.\n",
    "\n",
    "**Movements or trips ([Source](http://opendata.emtmadrid.es/Datos-estaticos/Datos-generales-(1)))**\n",
    "In this case the information is related to the movements of bicycles. Understanding as movement, the travel of a bicycle from an origin station to a destination station. This information includes data related to the movement itself (departure station, destination) and data relating to the user who performs the movement. It also distinguishes between movements made by the users of the system and movements made by the workers whose job is to cover the demand in certain stations.\n",
    "The ETL process involved the transformation of the original files into a manipulable format, cleaning and deleting some records as:\n",
    "• Records with coordinates outside the limits of Madrid.\n",
    "• Non-existent stations.\n",
    "• Negative travel times\n",
    "\n",
    "There are approximately 7 million trips stored for the indicated period in *movements.csv*"
   ]
  },
  {
   "cell_type": "code",
   "execution_count": 1,
   "metadata": {},
   "outputs": [],
   "source": [
    "import pandas as pd\n",
    "stations = pd.read_csv('stations.csv', index_col = False)\n",
    "movements = pd.read_csv('https://gastonlegnani.s3-us-west-2.amazonaws.com/movements.csv', index_col = False)"
   ]
  },
  {
   "cell_type": "code",
   "execution_count": 2,
   "metadata": {},
   "outputs": [
    {
     "data": {
      "text/html": [
       "<div>\n",
       "<style scoped>\n",
       "    .dataframe tbody tr th:only-of-type {\n",
       "        vertical-align: middle;\n",
       "    }\n",
       "\n",
       "    .dataframe tbody tr th {\n",
       "        vertical-align: top;\n",
       "    }\n",
       "\n",
       "    .dataframe thead th {\n",
       "        text-align: right;\n",
       "    }\n",
       "</style>\n",
       "<table border=\"1\" class=\"dataframe\">\n",
       "  <thead>\n",
       "    <tr style=\"text-align: right;\">\n",
       "      <th></th>\n",
       "      <th>id</th>\n",
       "      <th>code_station</th>\n",
       "      <th>name</th>\n",
       "      <th>num_bases</th>\n",
       "      <th>address</th>\n",
       "      <th>latitude</th>\n",
       "      <th>longitude</th>\n",
       "    </tr>\n",
       "  </thead>\n",
       "  <tbody>\n",
       "    <tr>\n",
       "      <th>0</th>\n",
       "      <td>1</td>\n",
       "      <td>1</td>\n",
       "      <td>Puerta del Sol A</td>\n",
       "      <td>24</td>\n",
       "      <td>Puerta del Sol nº 1</td>\n",
       "      <td>40.416896</td>\n",
       "      <td>-3.702425</td>\n",
       "    </tr>\n",
       "    <tr>\n",
       "      <th>1</th>\n",
       "      <td>2</td>\n",
       "      <td>2</td>\n",
       "      <td>Puerta del Sol B</td>\n",
       "      <td>24</td>\n",
       "      <td>Puerta del Sol nº 1</td>\n",
       "      <td>40.417001</td>\n",
       "      <td>-3.702421</td>\n",
       "    </tr>\n",
       "    <tr>\n",
       "      <th>2</th>\n",
       "      <td>3</td>\n",
       "      <td>3</td>\n",
       "      <td>Miguel Moya</td>\n",
       "      <td>24</td>\n",
       "      <td>Calle Miguel Moya nº 1</td>\n",
       "      <td>40.420589</td>\n",
       "      <td>-3.705842</td>\n",
       "    </tr>\n",
       "    <tr>\n",
       "      <th>3</th>\n",
       "      <td>4</td>\n",
       "      <td>4</td>\n",
       "      <td>Plaza Conde Suchil</td>\n",
       "      <td>18</td>\n",
       "      <td>Plaza del Conde Suchil nº 2-4</td>\n",
       "      <td>40.430294</td>\n",
       "      <td>-3.706917</td>\n",
       "    </tr>\n",
       "    <tr>\n",
       "      <th>4</th>\n",
       "      <td>5</td>\n",
       "      <td>5</td>\n",
       "      <td>Malasaña</td>\n",
       "      <td>24</td>\n",
       "      <td>Calle Manuela Malasaña nº 5</td>\n",
       "      <td>40.428552</td>\n",
       "      <td>-3.702587</td>\n",
       "    </tr>\n",
       "  </tbody>\n",
       "</table>\n",
       "</div>"
      ],
      "text/plain": [
       "   id  code_station                name  num_bases  \\\n",
       "0   1             1    Puerta del Sol A         24   \n",
       "1   2             2    Puerta del Sol B         24   \n",
       "2   3             3         Miguel Moya         24   \n",
       "3   4             4  Plaza Conde Suchil         18   \n",
       "4   5             5            Malasaña         24   \n",
       "\n",
       "                         address   latitude  longitude  \n",
       "0            Puerta del Sol nº 1  40.416896  -3.702425  \n",
       "1            Puerta del Sol nº 1  40.417001  -3.702421  \n",
       "2         Calle Miguel Moya nº 1  40.420589  -3.705842  \n",
       "3  Plaza del Conde Suchil nº 2-4  40.430294  -3.706917  \n",
       "4    Calle Manuela Malasaña nº 5  40.428552  -3.702587  "
      ]
     },
     "execution_count": 2,
     "metadata": {},
     "output_type": "execute_result"
    }
   ],
   "source": [
    "#stations dataframe\n",
    "stations.head()"
   ]
  },
  {
   "cell_type": "code",
   "execution_count": 3,
   "metadata": {},
   "outputs": [
    {
     "data": {
      "text/html": [
       "<div>\n",
       "<style scoped>\n",
       "    .dataframe tbody tr th:only-of-type {\n",
       "        vertical-align: middle;\n",
       "    }\n",
       "\n",
       "    .dataframe tbody tr th {\n",
       "        vertical-align: top;\n",
       "    }\n",
       "\n",
       "    .dataframe thead th {\n",
       "        text-align: right;\n",
       "    }\n",
       "</style>\n",
       "<table border=\"1\" class=\"dataframe\">\n",
       "  <thead>\n",
       "    <tr style=\"text-align: right;\">\n",
       "      <th></th>\n",
       "      <th>user_type_code</th>\n",
       "      <th>travel_time</th>\n",
       "      <th>idunplug_station</th>\n",
       "      <th>age_range_code</th>\n",
       "      <th>idplug_station</th>\n",
       "      <th>unplug_hourtime</th>\n",
       "    </tr>\n",
       "  </thead>\n",
       "  <tbody>\n",
       "    <tr>\n",
       "      <th>0</th>\n",
       "      <td>1</td>\n",
       "      <td>169</td>\n",
       "      <td>41</td>\n",
       "      <td>4</td>\n",
       "      <td>50</td>\n",
       "      <td>2017-04-01 01:00</td>\n",
       "    </tr>\n",
       "    <tr>\n",
       "      <th>1</th>\n",
       "      <td>1</td>\n",
       "      <td>271</td>\n",
       "      <td>95</td>\n",
       "      <td>5</td>\n",
       "      <td>90</td>\n",
       "      <td>2017-04-01 01:00</td>\n",
       "    </tr>\n",
       "    <tr>\n",
       "      <th>2</th>\n",
       "      <td>1</td>\n",
       "      <td>171</td>\n",
       "      <td>15</td>\n",
       "      <td>4</td>\n",
       "      <td>16</td>\n",
       "      <td>2017-04-01 01:00</td>\n",
       "    </tr>\n",
       "    <tr>\n",
       "      <th>3</th>\n",
       "      <td>1</td>\n",
       "      <td>388</td>\n",
       "      <td>23</td>\n",
       "      <td>4</td>\n",
       "      <td>57</td>\n",
       "      <td>2017-04-01 01:00</td>\n",
       "    </tr>\n",
       "    <tr>\n",
       "      <th>4</th>\n",
       "      <td>1</td>\n",
       "      <td>381</td>\n",
       "      <td>23</td>\n",
       "      <td>4</td>\n",
       "      <td>43</td>\n",
       "      <td>2017-04-01 01:00</td>\n",
       "    </tr>\n",
       "  </tbody>\n",
       "</table>\n",
       "</div>"
      ],
      "text/plain": [
       "   user_type_code  travel_time  idunplug_station  age_range_code  \\\n",
       "0               1          169                41               4   \n",
       "1               1          271                95               5   \n",
       "2               1          171                15               4   \n",
       "3               1          388                23               4   \n",
       "4               1          381                23               4   \n",
       "\n",
       "   idplug_station   unplug_hourtime  \n",
       "0              50  2017-04-01 01:00  \n",
       "1              90  2017-04-01 01:00  \n",
       "2              16  2017-04-01 01:00  \n",
       "3              57  2017-04-01 01:00  \n",
       "4              43  2017-04-01 01:00  "
      ]
     },
     "execution_count": 3,
     "metadata": {},
     "output_type": "execute_result"
    }
   ],
   "source": [
    "#movements dataframe\n",
    "movements.head()"
   ]
  },
  {
   "cell_type": "markdown",
   "metadata": {},
   "source": [
    "## Building the graph\n",
    "\n",
    "Including some necessary libraries. Must have installed them first."
   ]
  },
  {
   "cell_type": "code",
   "execution_count": 4,
   "metadata": {},
   "outputs": [],
   "source": [
    "%matplotlib inline\n",
    "import networkx as nx\n",
    "import matplotlib.pyplot as plt\n",
    "import operator\n",
    "import folium\n",
    "import geopandas as gpd\n",
    "import shapely.wkt\n",
    "from shapely.geometry import Point\n",
    "import warnings\n",
    "warnings.filterwarnings('ignore')"
   ]
  },
  {
   "cell_type": "markdown",
   "metadata": {},
   "source": [
    "Graph is generated. Nodes will represent the stations, using 'id' column as station's identifier."
   ]
  },
  {
   "cell_type": "code",
   "execution_count": null,
   "metadata": {},
   "outputs": [
    {
     "data": {
      "image/png": "[encoded data removed]",
      "text/plain": [
       "<Figure size 432x288 with 1 Axes>"
      ]
     },
     "metadata": {
      "needs_background": "light"
     },
     "output_type": "display_data"
    }
   ],
   "source": [
    "G = nx.Graph()\n",
    "G.add_nodes_from([i for i in stations['id']])\n",
    "nx.draw_networkx(G)\n",
    "plt.show()"
   ]
  },
  {
   "cell_type": "markdown",
   "metadata": {},
   "source": [
    "A weight is assigned to each edge. This weight represents the number of trips between both endpoints of the edge.\n",
    "\n",
    "As the dataset (*movements*) contains unique records for each trip, it's necessary to group and count the movements between these stations, as it's been done below.\n",
    "\n",
    "The movements are divided in two parts in order to perform an independent analysis on them:\n",
    "* The users of the system (user_type_code = 0,1,2)\n",
    "* Workers (user_type_code = 3) \n"
   ]
  },
  {
   "cell_type": "code",
   "execution_count": null,
   "metadata": {},
   "outputs": [],
   "source": [
    "users_codes = [0,1,2]\n",
    "workers_codes = [3]\n",
    "\n",
    "mov_users = movements[movements.user_type_code.isin(users_codes)].groupby(['idunplug_station','idplug_station']).count().reset_index().loc[:, [\"idunplug_station\", \"idplug_station\", \"user_type_code\"]]\n",
    "mov_users.columns = ['origin', 'destination', 'weight']\n",
    "\n",
    "mov_workers = movements[movements.user_type_code.isin(workers_codes)].groupby(['idunplug_station','idplug_station']).count().reset_index().loc[:, [\"idunplug_station\", \"idplug_station\", \"user_type_code\"]]\n",
    "mov_workers.columns = ['origin', 'destination', 'weight']"
   ]
  },
  {
   "cell_type": "markdown",
   "metadata": {},
   "source": [
    "Now i can generate the graphs including the edges information. As previously mentioned, two graphs will be generated. One for the users and one for the workers of the company and they will be analyzed separately later."
   ]
  },
  {
   "cell_type": "code",
   "execution_count": null,
   "metadata": {},
   "outputs": [],
   "source": [
    "G_users=nx.from_pandas_edgelist(mov_users, 'origin', 'destination', 'weight')\n",
    "G_workers=nx.from_pandas_edgelist(mov_workers, 'origin', 'destination', 'weight')"
   ]
  },
  {
   "cell_type": "code",
   "execution_count": null,
   "metadata": {},
   "outputs": [
    {
     "data": {
      "image/png": "[encoded data removed]",
      "text/plain": [
       "<Figure size 432x288 with 1 Axes>"
      ]
     },
     "metadata": {
      "needs_background": "light"
     },
     "output_type": "display_data"
    }
   ],
   "source": [
    "nx.draw_networkx(G_users)\n",
    "plt.show()"
   ]
  },
  {
   "cell_type": "markdown",
   "metadata": {},
   "source": [
    "## Implementing PageRank\n",
    "\n",
    "PageRank works by counting the number and quality of links to a website in order to estimate the importance of its website. The underlying assumption is that the most important websites are likely to receive more links from others.\n",
    "\n",
    "The interesting thing about this concept is that it can be applied to any graph structure, wether in web pages or in bicycle stations in this case. \n",
    "\n",
    "I'm going to use the NetworkX library imported previously. The algorithm was implemented on both generated graphs in order to analyze the most and least important stations of the network."
   ]
  },
  {
   "cell_type": "code",
   "execution_count": null,
   "metadata": {},
   "outputs": [],
   "source": [
    "pr_users = nx.pagerank(G_users, alpha=0.85)\n",
    "pr_workers = nx.pagerank(G_workers, alpha=0.85)"
   ]
  },
  {
   "cell_type": "markdown",
   "metadata": {},
   "source": [
    "According to the algorithm and the analyzed period, the most important stations for users are:"
   ]
  },
  {
   "cell_type": "code",
   "execution_count": null,
   "metadata": {},
   "outputs": [
    {
     "data": {
      "text/html": [
       "<div>\n",
       "<style scoped>\n",
       "    .dataframe tbody tr th:only-of-type {\n",
       "        vertical-align: middle;\n",
       "    }\n",
       "\n",
       "    .dataframe tbody tr th {\n",
       "        vertical-align: top;\n",
       "    }\n",
       "\n",
       "    .dataframe thead th {\n",
       "        text-align: right;\n",
       "    }\n",
       "</style>\n",
       "<table border=\"1\" class=\"dataframe\">\n",
       "  <thead>\n",
       "    <tr style=\"text-align: right;\">\n",
       "      <th></th>\n",
       "      <th>name</th>\n",
       "      <th>id</th>\n",
       "      <th>rv</th>\n",
       "    </tr>\n",
       "  </thead>\n",
       "  <tbody>\n",
       "    <tr>\n",
       "      <th>41</th>\n",
       "      <td>Plaza de la Cebada</td>\n",
       "      <td>43</td>\n",
       "      <td>0.012899</td>\n",
       "    </tr>\n",
       "    <tr>\n",
       "      <th>55</th>\n",
       "      <td>Plaza de Lavapiés</td>\n",
       "      <td>57</td>\n",
       "      <td>0.012793</td>\n",
       "    </tr>\n",
       "    <tr>\n",
       "      <th>86</th>\n",
       "      <td>Puerta de Madrid</td>\n",
       "      <td>90</td>\n",
       "      <td>0.012658</td>\n",
       "    </tr>\n",
       "    <tr>\n",
       "      <th>125</th>\n",
       "      <td>Santa María de la Cabeza</td>\n",
       "      <td>129</td>\n",
       "      <td>0.010903</td>\n",
       "    </tr>\n",
       "    <tr>\n",
       "      <th>130</th>\n",
       "      <td>General Álvarez de Castro</td>\n",
       "      <td>163</td>\n",
       "      <td>0.010881</td>\n",
       "    </tr>\n",
       "    <tr>\n",
       "      <th>131</th>\n",
       "      <td>Fernando el Católico</td>\n",
       "      <td>168</td>\n",
       "      <td>0.010791</td>\n",
       "    </tr>\n",
       "    <tr>\n",
       "      <th>132</th>\n",
       "      <td>Cea Bermúdez</td>\n",
       "      <td>160</td>\n",
       "      <td>0.010423</td>\n",
       "    </tr>\n",
       "    <tr>\n",
       "      <th>136</th>\n",
       "      <td>Glorieta de los Cuatro Caminos</td>\n",
       "      <td>149</td>\n",
       "      <td>0.010234</td>\n",
       "    </tr>\n",
       "    <tr>\n",
       "      <th>169</th>\n",
       "      <td>Entrada Matadero</td>\n",
       "      <td>135</td>\n",
       "      <td>0.010020</td>\n",
       "    </tr>\n",
       "    <tr>\n",
       "      <th>171</th>\n",
       "      <td>Segovia 45</td>\n",
       "      <td>175</td>\n",
       "      <td>0.009967</td>\n",
       "    </tr>\n",
       "  </tbody>\n",
       "</table>\n",
       "</div>"
      ],
      "text/plain": [
       "                               name   id        rv\n",
       "41               Plaza de la Cebada   43  0.012899\n",
       "55                Plaza de Lavapiés   57  0.012793\n",
       "86                 Puerta de Madrid   90  0.012658\n",
       "125        Santa María de la Cabeza  129  0.010903\n",
       "130       General Álvarez de Castro  163  0.010881\n",
       "131            Fernando el Católico  168  0.010791\n",
       "132                    Cea Bermúdez  160  0.010423\n",
       "136  Glorieta de los Cuatro Caminos  149  0.010234\n",
       "169                Entrada Matadero  135  0.010020\n",
       "171                      Segovia 45  175  0.009967"
      ]
     },
     "execution_count": 10,
     "metadata": {},
     "output_type": "execute_result"
    }
   ],
   "source": [
    "sort_p_users=sorted(pr_users.items(),key=operator.itemgetter(1),reverse=True)\n",
    "ids = [i[0] for i in sort_p_users[:10]]\n",
    "top5_users = stations[stations.id.isin(ids)]\n",
    "top5_users['rv'] = [i[1] for i in sort_p_users[:10]]\n",
    "top5_users.loc[:, ['name', 'id', 'rv']]"
   ]
  },
  {
   "cell_type": "markdown",
   "metadata": {},
   "source": [
    "For a better visualization, we might want to see them within a map"
   ]
  },
  {
   "cell_type": "code",
   "execution_count": null,
   "metadata": {},
   "outputs": [],
   "source": [
    "top5_users['geometry'] = list(zip(top5_users.longitude, top5_users.latitude))\n",
    "top5_users['geometry'] = top5_users['geometry'].apply(Point)\n",
    "crs = {'init': 'epsg:4326'}\n",
    "top5_users_gdf = gpd.GeoDataFrame(top5_users, crs=crs, geometry='geometry')\n",
    "m = folium.Map(location=[40.4, -3.7], zoom_start=12, tiles='cartodbpositron')\n",
    "folium.GeoJson(top5_users_gdf, tooltip=folium.features.GeoJsonTooltip(fields=['id', 'name', 'num_bases', 'address'])).add_to(m)\n",
    "m"
   ]
  },
  {
   "cell_type": "markdown",
   "metadata": {},
   "source": [
    "**These stations are the natural connectors of the bicycle network.**\n",
    "\n",
    "On the other hand, if we only consider workers movements, the most important stations of the network are:"
   ]
  },
  {
   "cell_type": "code",
   "execution_count": null,
   "metadata": {},
   "outputs": [],
   "source": [
    "sort_p_workers=sorted(pr_workers.items(),key=operator.itemgetter(1),reverse=True)\n",
    "ids = [i[0] for i in sort_p_workers[:5]]\n",
    "top5_workers = stations[stations.id.isin(ids)]\n",
    "top5_workers['rv'] = [i[1] for i in sort_p_workers[:5]]\n",
    "top5_workers.loc[:, ['name', 'id', 'rv']]"
   ]
  },
  {
   "cell_type": "markdown",
   "metadata": {},
   "source": [
    "**These stations are those where the workers either take out bicycles or put them back in during the day to cover the demand of the users of the network.**\n",
    "\n",
    "For some reason these stations do not have a natural behavior given by the demand of the users. They are not considered to be mixed stations. They work as receivers (they receive a lot and therefore they have to be emptied) or issuers (many bicycles are taken out from there and as it gets empty, it must be filled)"
   ]
  },
  {
   "cell_type": "markdown",
   "metadata": {},
   "source": [
    "### Less significant stations"
   ]
  },
  {
   "cell_type": "markdown",
   "metadata": {},
   "source": [
    "* Considering users"
   ]
  },
  {
   "cell_type": "code",
   "execution_count": null,
   "metadata": {},
   "outputs": [],
   "source": [
    "ids = [i[0] for i in sort_p_users[-5:]]\n",
    "less5_users = stations[stations.id.isin(ids)]\n",
    "less5_users['rv'] = [i[1] for i in sort_p_users[-5:]]\n",
    "less5_users.loc[:, ['name', 'id', 'rv']]"
   ]
  },
  {
   "cell_type": "markdown",
   "metadata": {},
   "source": [
    "Although we should analyze first the exact reason of the results, this information could be useful in order to reconsider either the correct location of the station or its existance."
   ]
  },
  {
   "cell_type": "markdown",
   "metadata": {},
   "source": [
    "* Considering workers"
   ]
  },
  {
   "cell_type": "code",
   "execution_count": null,
   "metadata": {},
   "outputs": [],
   "source": [
    "ids = [i[0] for i in sort_p_workers[-5:]]\n",
    "less5_workers = stations[stations.id.isin(ids)]\n",
    "less5_workers['rv'] = [i[1] for i in sort_p_workers[-5:]]\n",
    "less5_workers.loc[:, ['name', 'id', 'rv']]"
   ]
  },
  {
   "cell_type": "markdown",
   "metadata": {},
   "source": [
    "## Clustering\n",
    "\n",
    "The goal here is to divide the graph into subnets or communities to find cohesive groups of stations in the network using the Louvain method. This information is useful as a starting point to develop a cycle infrastructure according to the user's behavior."
   ]
  },
  {
   "cell_type": "code",
   "execution_count": null,
   "metadata": {},
   "outputs": [],
   "source": [
    "import community\n",
    "partition = community.best_partition(G_users)\n",
    "for i in set(partition.values()):\n",
    "  print(\"Community\", i)\n",
    "  members = [nodes for nodes in partition.keys() if partition[nodes] == i]\n",
    "  print(members)\n",
    "\n",
    "values = [partition.get(node) for node in G_users.nodes()]\n",
    "nx.draw(G_users, pos=nx.fruchterman_reingold_layout(G_users),\n",
    "  cmap = plt.get_cmap('jet'),\n",
    "  node_color = values,\n",
    "  node_size=150,\n",
    "  with_labels=False)\n",
    "\n",
    "plt.show()"
   ]
  },
  {
   "cell_type": "markdown",
   "metadata": {},
   "source": [
    "**We can see that according to this method there are 3-4 communities in the network**"
   ]
  },
  {
   "cell_type": "markdown",
   "metadata": {},
   "source": [
    "For a better visualization we use a folium map."
   ]
  },
  {
   "cell_type": "code",
   "execution_count": null,
   "metadata": {},
   "outputs": [],
   "source": [
    "def get_cluster_colour(community):\n",
    "    if community == 0:\n",
    "        return \"green\"\n",
    "    if community == 1:\n",
    "        return \"blue\"\n",
    "    if community == 2:\n",
    "        return \"orange\"\n",
    "    else:\n",
    "        return \"red\""
   ]
  },
  {
   "cell_type": "code",
   "execution_count": null,
   "metadata": {},
   "outputs": [],
   "source": [
    "#Identifying stations according to the cluster and using different colours\n",
    "\n",
    "m = folium.Map(location=[40.43, -3.7], zoom_start=13, tiles='cartodbpositron')\n",
    "for i in set(partition.values()):\n",
    "    ids = [nodes for nodes in partition.keys() if partition[nodes] == i]\n",
    "    dat = stations[stations.id.isin(ids)]\n",
    "    crs = {'init': 'epsg:4326'}\n",
    "    for index, row in dat.iterrows():\n",
    "        folium.Marker( location=[ row.latitude, row.longitude ], icon=folium.Icon(color=get_cluster_colour(i), icon='info-sign'), \n",
    "                  popup= str(row['name'])).add_to(m)\n",
    "m"
   ]
  },
  {
   "cell_type": "markdown",
   "metadata": {},
   "source": [
    "This information might mean that most of the user's movements are short in distance"
   ]
  },
  {
   "cell_type": "code",
   "execution_count": null,
   "metadata": {},
   "outputs": [],
   "source": []
  },
  {
   "cell_type": "code",
   "execution_count": null,
   "metadata": {},
   "outputs": [],
   "source": []
  }
 ],
 "metadata": {
  "kernelspec": {
   "display_name": "Python 3",
   "language": "python",
   "name": "python3"
  },
  "language_info": {
   "codemirror_mode": {
    "name": "ipython",
    "version": 3
   },
   "file_extension": ".py",
   "mimetype": "text/x-python",
   "name": "python",
   "nbconvert_exporter": "python",
   "pygments_lexer": "ipython3",
   "version": "3.6.7"
  }
 },
 "nbformat": 4,
 "nbformat_minor": 2
}
